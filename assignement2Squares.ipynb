{
  "nbformat": 4,
  "nbformat_minor": 0,
  "metadata": {
    "colab": {
      "provenance": [],
      "authorship_tag": "ABX9TyOmDEeomh2vO8gA7gvknezV",
      "include_colab_link": true
    },
    "kernelspec": {
      "name": "python3",
      "display_name": "Python 3"
    },
    "language_info": {
      "name": "python"
    }
  },
  "cells": [
    {
      "cell_type": "markdown",
      "metadata": {
        "id": "view-in-github",
        "colab_type": "text"
      },
      "source": [
        "<a href=\"https://colab.research.google.com/github/SAMYSOSERIOUS/Python/blob/main/assignement2Squares.ipynb\" target=\"_parent\"><img src=\"https://colab.research.google.com/assets/colab-badge.svg\" alt=\"Open In Colab\"/></a>"
      ]
    },
    {
      "cell_type": "markdown",
      "source": [
        "Write a function that takes a list of cartesian co-ordinates (x,y) and returns the numbers of squares formed by\n",
        "these co-ordinates\n",
        "a square should have its four corners amongst the co-ordinates to be counted as a square. Only squares whos\n",
        "sides are parallel to the x and y axes to be considered\n",
        "sample input = coordinates = [ [0,0],[0,1],[1,1][1,0], [2,1][2,0],[3,1],[3,0] ]\n",
        "try and get the optimum big O notation (considering the worst case) and mention the reason for the same in\n",
        "a comment."
      ],
      "metadata": {
        "id": "TffCOJNsWR3r"
      }
    },
    {
      "cell_type": "code",
      "source": [
        "def count_squares(coordinates):\n",
        "    square_count = 0\n",
        "    # Iterate over all pairs of coordinates\n",
        "    for i in range(len(coordinates)):\n",
        "        for j in range(i + 1, len(coordinates)):\n",
        "            # Get the two points\n",
        "            x1, y1 = coordinates[i]\n",
        "            x2, y2 = coordinates[j]\n",
        "            # Condition: Only squares whose sides are parallel to the x and y axes to be considered\n",
        "            if x1 != x2 and y1 != y2:\n",
        "                if [x1, y2] in coordinates and [x2, y1] in coordinates:\n",
        "                    square_count += 1\n",
        "\n",
        "    return square_count\n",
        "\n",
        "cordinates = [[0,0], [0,1], [1,1], [1,0], [2,1], [2,0], [3,1], [3,0]]\n",
        "print(count_squares(cordinates))\n",
        "\n",
        "\"\"\"\n",
        "(Worst Case)\n",
        "Worst-case Time Complexity: O(n^3)\n",
        "Space Complexity: O(1)\n",
        "\"\"\""
      ],
      "metadata": {
        "colab": {
          "base_uri": "https://localhost:8080/",
          "height": 54
        },
        "id": "7dOSBIqGhfwf",
        "outputId": "c51806fe-f14b-4a66-ae60-c85dbe9c142b"
      },
      "execution_count": 22,
      "outputs": [
        {
          "output_type": "stream",
          "name": "stdout",
          "text": [
            "12\n"
          ]
        },
        {
          "output_type": "execute_result",
          "data": {
            "text/plain": [
              "'\\n(Worst Case)\\n# Time Complexity: O(n^2)\\n# Space Complexity: O(n)\\n'"
            ],
            "application/vnd.google.colaboratory.intrinsic+json": {
              "type": "string"
            }
          },
          "metadata": {},
          "execution_count": 22
        }
      ]
    }
  ]
}