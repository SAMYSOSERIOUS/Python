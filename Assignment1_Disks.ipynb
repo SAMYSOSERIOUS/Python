{
  "nbformat": 4,
  "nbformat_minor": 0,
  "metadata": {
    "colab": {
      "provenance": [],
      "authorship_tag": "ABX9TyNEyc5YdTrE7ogivPDuwMfY",
      "include_colab_link": true
    },
    "kernelspec": {
      "name": "python3",
      "display_name": "Python 3"
    },
    "language_info": {
      "name": "python"
    }
  },
  "cells": [
    {
      "cell_type": "markdown",
      "metadata": {
        "id": "view-in-github",
        "colab_type": "text"
      },
      "source": [
        "<a href=\"https://colab.research.google.com/github/SAMYSOSERIOUS/Python/blob/main/Assignment1_Disks.ipynb\" target=\"_parent\"><img src=\"https://colab.research.google.com/assets/colab-badge.svg\" alt=\"Open In Colab\"/></a>"
      ]
    },
    {
      "cell_type": "code",
      "execution_count": 59,
      "metadata": {
        "colab": {
          "base_uri": "https://localhost:8080/"
        },
        "id": "nr7XrXfySS_v",
        "outputId": "57301f89-c8aa-4c97-ca64-5693343d2664"
      },
      "outputs": [
        {
          "output_type": "stream",
          "name": "stdout",
          "text": [
            "[[2, 1, 2], [3, 2, 3], [2, 2, 8], [2, 3, 4], [1, 3, 1], [4, 4, 5]]\n",
            "sorted disks [[4, 4, 5], [3, 2, 3], [2, 1, 2], [2, 2, 8], [2, 3, 4], [1, 3, 1]]\n",
            "hights [5, 3, 2, 8, 4, 1]\n",
            "previous [-1, -1, -1, -1, -1, -1]\n",
            "the disks [[[4, 4, 5]], [[3, 2, 3]], [[2, 1, 2]]]\n"
          ]
        }
      ],
      "source": [
        "from inspect import stack\n",
        "disks=[[2, 1, 2], [3, 2, 3], [2, 2, 8], [2, 3, 4], [1, 3, 1], [4, 4, 5]]\n",
        "print(disks)\n",
        "def disks_stacking(disks):\n",
        "\n",
        "  \"\"\"\n",
        "  [width, depth, height]\n",
        "  [0,1,2]\n",
        "\n",
        "  \"\"\"\n",
        "  l=len(disks)\n",
        "  i=1\n",
        "  j=1\n",
        "  #sorting disks on width from highest\n",
        "  disks.sort(key=lambda x: x[0],reverse=True)\n",
        "  print('sorted disks',disks)\n",
        "# Initialize dp with heights of individual disks\n",
        "  hights = [disk[2] for disk in disks]\n",
        "  prev = [-1] * l\n",
        "  print('hights',hights)\n",
        "  print('previous',prev)\n",
        "\n",
        "\n",
        "  for i in range(1, l):\n",
        "    for j in range(i):\n",
        "      if all(disks[i][k] > disks[j][k] for k in range(3)):\n",
        "        if hights[i] < hights[j] + disks[i][2]:\n",
        "          hights[i] = hights[j] + disks[i][2]\n",
        "          prev[i] = j\n",
        "          print('array',hights)\n",
        "          print('previous',prev)\n",
        "\n",
        "\n",
        "\n",
        "  max_height = max(hights)\n",
        "  max_index = hights.index(max_height)\n",
        "\n",
        "  def get_stack(i):\n",
        "    stack = []\n",
        "    while i != -1:\n",
        "      stack.append(disks[i])\n",
        "      i = prev[i]\n",
        "    stack.reverse()\n",
        "    return stack[::-1]\n",
        "\n",
        "\n",
        "\n",
        "  stack=[]\n",
        "  for i in range(max_index):\n",
        "    stack.append(get_stack(i))\n",
        "  return stack\n",
        "\n",
        "\n",
        "\n",
        "print('the disks',disks_stacking(disks))\n"
      ]
    }
  ]
}