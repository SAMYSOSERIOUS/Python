{
  "nbformat": 4,
  "nbformat_minor": 0,
  "metadata": {
    "colab": {
      "provenance": [],
      "authorship_tag": "ABX9TyN9GQP6pLGIq4lz/0w5i6ZS",
      "include_colab_link": true
    },
    "kernelspec": {
      "name": "python3",
      "display_name": "Python 3"
    },
    "language_info": {
      "name": "python"
    }
  },
  "cells": [
    {
      "cell_type": "markdown",
      "metadata": {
        "id": "view-in-github",
        "colab_type": "text"
      },
      "source": [
        "<a href=\"https://colab.research.google.com/github/SAMYSOSERIOUS/Python/blob/main/Assignment1_Disks.ipynb\" target=\"_parent\"><img src=\"https://colab.research.google.com/assets/colab-badge.svg\" alt=\"Open In Colab\"/></a>"
      ]
    },
    {
      "cell_type": "code",
      "execution_count": 5,
      "metadata": {
        "colab": {
          "base_uri": "https://localhost:8080/",
          "height": 296
        },
        "id": "nr7XrXfySS_v",
        "outputId": "de1c9a6f-6b39-40ac-e66a-6257af50c76d"
      },
      "outputs": [
        {
          "output_type": "stream",
          "name": "stdout",
          "text": [
            "[[2, 1, 2], [3, 2, 3], [2, 2, 8], [2, 3, 4], [1, 3, 1], [4, 4, 5]]\n",
            "sorted disks [[2, 2, 8], [4, 4, 5], [2, 3, 4], [3, 2, 3], [2, 1, 2], [1, 3, 1]]\n",
            "hights [8, 5, 4, 3, 2, 1]\n",
            "previous [-1, -1, -1, -1, -1, -1]\n",
            "array [8, 5, 9, 3, 2, 1]\n",
            "previous [-1, -1, 1, -1, -1, -1]\n",
            "array [8, 5, 9, 8, 2, 1]\n",
            "previous [-1, -1, 1, 1, -1, -1]\n",
            "array [8, 5, 9, 8, 7, 1]\n",
            "previous [-1, -1, 1, 1, 1, -1]\n",
            "array [8, 5, 9, 8, 10, 1]\n",
            "previous [-1, -1, 1, 1, 3, -1]\n",
            "array [8, 5, 9, 8, 10, 6]\n",
            "previous [-1, -1, 1, 1, 3, 1]\n",
            "the disks [[[4, 4, 5], [3, 2, 3], [2, 1, 2]]]\n"
          ]
        },
        {
          "output_type": "execute_result",
          "data": {
            "text/plain": [
              "'\\nTime Complexity (Worst Case):\\nT(N) = O(N log N) + O(N²) + O(N²) = O(N²)\\n\\nSpace Complexity (Worst Case):\\nS(N) = O(N) + O(N²) = O(N²)\\n'"
            ],
            "application/vnd.google.colaboratory.intrinsic+json": {
              "type": "string"
            }
          },
          "metadata": {},
          "execution_count": 5
        }
      ],
      "source": [
        "from inspect import stack\n",
        "\n",
        "disks = [[2, 1, 2], [3, 2, 3], [2, 2, 8], [2, 3, 4], [1, 3, 1], [4, 4, 5]]\n",
        "print(disks)\n",
        "\n",
        "def disks_stacking(disks):\n",
        "    l = len(disks)\n",
        "    disks.sort(key=lambda x: x[2], reverse=True)  # Sort by height descending\n",
        "\n",
        "    hights = [disk[2] for disk in disks]\n",
        "    prev = [-1] * l\n",
        "    print('sorted disks', disks)\n",
        "    print('hights', hights)\n",
        "    print('previous', prev)\n",
        "\n",
        "    max_height = max(hights)\n",
        "    max_stacks = []\n",
        "\n",
        "    for i in range(1, l):\n",
        "        for j in range(i):\n",
        "            if disks[i][0] < disks[j][0] and disks[i][1] < disks[j][1] and disks[i][2] < disks[j][2]:\n",
        "                if hights[i] < hights[j] + disks[i][2]:\n",
        "                    hights[i] = hights[j] + disks[i][2]\n",
        "                    prev[i] = j\n",
        "                    max_height = max(max_height, hights[i])\n",
        "                    print('array', hights)\n",
        "                    print('previous', prev)\n",
        "\n",
        "    def get_stack(i):\n",
        "        stack = []\n",
        "        while i != -1:\n",
        "            stack.append(disks[i])\n",
        "            i = prev[i]\n",
        "        return stack[::-1]\n",
        "\n",
        "    for i in range(l):\n",
        "        if hights[i] == max_height:\n",
        "            max_stacks.append(get_stack(i))\n",
        "\n",
        "    return max_stacks\n",
        "\n",
        "print('the disks', disks_stacking(disks))\n",
        "\n",
        "\"\"\"\n",
        "Time Complexity (Worst Case):\n",
        "T(N) = O(N log N) + O(N²) + O(N²) = O(N²)\n",
        "\n",
        "Space Complexity (Worst Case):\n",
        "S(N) = O(N) + O(N²) = O(N²)\n",
        "\"\"\"\n"
      ]
    }
  ]
}