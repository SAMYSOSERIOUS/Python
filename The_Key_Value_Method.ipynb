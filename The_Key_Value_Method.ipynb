{
  "nbformat": 4,
  "nbformat_minor": 0,
  "metadata": {
    "colab": {
      "provenance": [],
      "authorship_tag": "ABX9TyMlh7MhZtrYIDqOOoFkt/MZ",
      "include_colab_link": true
    },
    "kernelspec": {
      "name": "python3",
      "display_name": "Python 3"
    },
    "language_info": {
      "name": "python"
    }
  },
  "cells": [
    {
      "cell_type": "markdown",
      "metadata": {
        "id": "view-in-github",
        "colab_type": "text"
      },
      "source": [
        "<a href=\"https://colab.research.google.com/github/SAMYSOSERIOUS/Python/blob/main/The_Key_Value_Method.ipynb\" target=\"_parent\"><img src=\"https://colab.research.google.com/assets/colab-badge.svg\" alt=\"Open In Colab\"/></a>"
      ]
    },
    {
      "cell_type": "code",
      "execution_count": 18,
      "metadata": {
        "id": "kwNuY9lbK-xd",
        "colab": {
          "base_uri": "https://localhost:8080/"
        },
        "outputId": "5a142860-c2c5-47fa-a925-9b44ec0257cc"
      },
      "outputs": [
        {
          "output_type": "stream",
          "name": "stdout",
          "text": [
            "write a date in this form of [dd/mm/yyyy] : 28/12/2000\n",
            "Thursday\n"
          ]
        }
      ],
      "source": [
        "date = input(\"write a date in this form of [dd/mm/yyyy] : \")\n",
        "while True:\n",
        "    try:\n",
        "        d, m, y = map(int, date.split('/'))\n",
        "        break\n",
        "    except ValueError:\n",
        "        print(\"Invalid date format. Please use dd/mm/yyyy.\")\n",
        "        date = input(\"write a date in this form of [dd/mm/yyyy] : \")\n",
        "\n",
        "day = d\n",
        "month = m\n",
        "year = y\n",
        "\n",
        "def RemainderValue(remainder):\n",
        "  if remainder == 0:\n",
        "    return \"Saturday\"\n",
        "  elif remainder == 1:\n",
        "    return \"Sunday\"\n",
        "  elif remainder == 2:\n",
        "    return \"Monday\"\n",
        "  elif remainder == 3:\n",
        "    return \"Tuesday\"\n",
        "  elif remainder == 4:\n",
        "    return \"Wednesday\"\n",
        "  elif remainder == 5:\n",
        "    return \"Thursday\"\n",
        "  elif remainder == 6:\n",
        "    return \"Friday\"\n",
        "  else:\n",
        "    return \"Error\"\n",
        "\n",
        "def MonthValue(month,year):\n",
        "  if month == 1 or month == 10:\n",
        "    return 1\n",
        "  elif month == 5:\n",
        "    return 2\n",
        "  elif month == 8:\n",
        "    return 3\n",
        "  elif month == 2 or month == 3 or month == 11:\n",
        "    return 4\n",
        "  elif month == 6:\n",
        "    return 5\n",
        "  elif month == 9 or month ==12:\n",
        "    return 6\n",
        "  else:\n",
        "    return 0\n",
        "\n",
        "\n",
        "\n",
        "\n",
        "def CenturyValue(first_digits):\n",
        "  while first_digits not in [17,18,19,20]:\n",
        "    if first_digits > 20:\n",
        "      first_digits-=4\n",
        "    else:\n",
        "      first_digits+=4\n",
        "\n",
        "  if first_digits == 17 :\n",
        "    return 4\n",
        "  elif first_digits == 18 :\n",
        "    return 2\n",
        "  elif first_digits == 19 :\n",
        "    return 0\n",
        "  elif first_digits == 20 :\n",
        "    return 6\n",
        "\n",
        "def leap_year(year):\n",
        "  if year%4==0 and year%100!=0 or year%400==0:\n",
        "    return True\n",
        "  else:\n",
        "    return False\n",
        "def key_value_method(day, month, year):\n",
        "  first_digits=year//100\n",
        "  second_digits=year%100\n",
        "  X=(((second_digits/4)-(second_digits%4))+MonthValue(month,year)+day+CenturyValue(first_digits)) + second_digits\n",
        "  if leap_year(year) and (month ==1 or month ==2) :\n",
        "    X-=1\n",
        "  remainder = X % 7\n",
        "  return RemainderValue(remainder)\n",
        "print(key_value_method(day,month,year))\n",
        "\n",
        "\n",
        "\n"
      ]
    }
  ]
}