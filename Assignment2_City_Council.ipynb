{
  "nbformat": 4,
  "nbformat_minor": 0,
  "metadata": {
    "colab": {
      "provenance": [],
      "authorship_tag": "ABX9TyNIefZ5TsSgrX3Izyc9XIgN",
      "include_colab_link": true
    },
    "kernelspec": {
      "name": "python3",
      "display_name": "Python 3"
    },
    "language_info": {
      "name": "python"
    }
  },
  "cells": [
    {
      "cell_type": "markdown",
      "metadata": {
        "id": "view-in-github",
        "colab_type": "text"
      },
      "source": [
        "<a href=\"https://colab.research.google.com/github/SAMYSOSERIOUS/Python/blob/main/Assignment2_City_Council.ipynb\" target=\"_parent\"><img src=\"https://colab.research.google.com/assets/colab-badge.svg\" alt=\"Open In Colab\"/></a>"
      ]
    },
    {
      "cell_type": "code",
      "source": [
        "import random\n",
        "import datetime\n",
        "import pandas as pd\n",
        "\n",
        "def generate_patient_data(num_patients):\n",
        "    \"\"\"\n",
        "    Generate random patient data\n",
        "    :param num_patients: number of patients to generate\n",
        "    :return: list of dictionaries containing patient data\n",
        "    \"\"\"\n",
        "    patients = []\n",
        "    for i in range(num_patients):\n",
        "        patient_id = 'p' + str(i + 1) #P1,P2..\n",
        "        # Generate a random date within the last year\n",
        "        today = datetime.date.today()\n",
        "        days_ago = random.randint(0, 365)\n",
        "        test_date = today - datetime.timedelta(days=days_ago)\n",
        "        patients.append({\"Patient Id\": patient_id, \"Date of Test\": test_date})\n",
        "    return patients\n",
        "\n",
        "# Generate a list of 20 patients\n",
        "patient_data = generate_patient_data(20)\n",
        "\n",
        "# Convert the list of patient data to a DataFrame\n",
        "df = pd.DataFrame(patient_data)\n",
        "\n",
        "# Sampling 1 out of every 5 patients\n",
        "sampled_patients = []\n",
        "for i in range(0, len(patient_data), 5):\n",
        "    batch = patient_data[i:i + 5]\n",
        "    sampled_patient = random.choice(batch)\n",
        "    sampled_patients.append(sampled_patient)\n",
        "\n",
        "# Create a DataFrame for the sampled patients\n",
        "sampled_df = pd.DataFrame(sampled_patients)\n",
        "\n",
        "# Display the original and sampled data\n",
        "print(\"Original Patient Data:\\n\", df)\n",
        "print(\"\\nSampled Patient Data:\\n\", sampled_df)\n"
      ],
      "metadata": {
        "id": "qbxI6CV-TQgu",
        "outputId": "e20d2747-5a60-4e25-db99-d8bb394007ce",
        "colab": {
          "base_uri": "https://localhost:8080/"
        }
      },
      "execution_count": 1,
      "outputs": [
        {
          "output_type": "stream",
          "name": "stdout",
          "text": [
            "Original Patient Data:\n",
            "    Patient Id Date of Test\n",
            "0          p1   2024-07-02\n",
            "1          p2   2024-06-06\n",
            "2          p3   2025-01-07\n",
            "3          p4   2024-09-11\n",
            "4          p5   2024-12-24\n",
            "5          p6   2024-11-06\n",
            "6          p7   2024-06-05\n",
            "7          p8   2025-01-07\n",
            "8          p9   2024-12-20\n",
            "9         p10   2024-04-23\n",
            "10        p11   2024-03-29\n",
            "11        p12   2024-07-03\n",
            "12        p13   2025-02-22\n",
            "13        p14   2024-04-03\n",
            "14        p15   2024-03-21\n",
            "15        p16   2024-07-25\n",
            "16        p17   2024-11-06\n",
            "17        p18   2024-05-11\n",
            "18        p19   2024-04-09\n",
            "19        p20   2024-10-26\n",
            "\n",
            "Sampled Patient Data:\n",
            "   Patient Id Date of Test\n",
            "0         p2   2024-06-06\n",
            "1         p9   2024-12-20\n",
            "2        p11   2024-03-29\n",
            "3        p17   2024-11-06\n"
          ]
        }
      ]
    }
  ]
}