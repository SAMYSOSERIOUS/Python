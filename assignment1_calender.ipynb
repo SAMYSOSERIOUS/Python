{
  "nbformat": 4,
  "nbformat_minor": 0,
  "metadata": {
    "colab": {
      "provenance": [],
      "authorship_tag": "ABX9TyNkKxqSfvKh2gNjMzD9Klj9",
      "include_colab_link": true
    },
    "kernelspec": {
      "name": "python3",
      "display_name": "Python 3"
    },
    "language_info": {
      "name": "python"
    }
  },
  "cells": [
    {
      "cell_type": "markdown",
      "metadata": {
        "id": "view-in-github",
        "colab_type": "text"
      },
      "source": [
        "<a href=\"https://colab.research.google.com/github/SAMYSOSERIOUS/Python/blob/main/assignment1_calender.ipynb\" target=\"_parent\"><img src=\"https://colab.research.google.com/assets/colab-badge.svg\" alt=\"Open In Colab\"/></a>"
      ]
    },
    {
      "cell_type": "code",
      "source": [
        "def free_time(YourCalendar, YourWorkingHours, YourCoWorkersCalendar, YourCoWorkersWorkingHours, meetingDuration):\n",
        "  \"\"\"\n",
        "  YourCalendar: list of lists\n",
        "  YourWorkingHours: list\n",
        "  YourCoWorkersCalendar: list of lists\n",
        "  YourCoWorkersWorkingHours: list\n",
        "  meetingDuration: int\n",
        "  \"\"\n",
        "  \"\"\"\n",
        "  #convert time to minutes\n",
        "  def time_to_minutes(time):\n",
        "    hour, minute = map(int, time.split(':'))\n",
        "    return hour * 60 + minute\n",
        "    #convert minutes to time\n",
        "  def minutes_to_time(minutes):\n",
        "    hour = minutes // 60\n",
        "    minute = minutes % 60\n",
        "    return f\"{hour:02d}:{minute:02d}\"\n",
        "  #intialize start_time and end_time\n",
        "  start_time = max(YourWorkingHours[0], YourCoWorkersWorkingHours[0])\n",
        "  end_time = min(YourWorkingHours[1], YourCoWorkersWorkingHours[1])\n",
        "  #turn into minutes\n",
        "  start_time = time_to_minutes(start_time)\n",
        "  end_time = time_to_minutes(end_time)\n",
        "  #merge calenders\n",
        "  merged_calendar = YourCalendar + YourCoWorkersCalendar\n",
        "  print(\"your calender\",YourCalendar)\n",
        "  print(\"your co-workers calender\",YourCoWorkersCalendar)\n",
        "  print(\"merged calender\",merged_calendar)\n",
        "  merged_calendar.sort(key=lambda x: time_to_minutes(x[0]))\n",
        "  print(\"sorted merged calender\",merged_calendar)\n",
        "  #Find Available Slots\n",
        "  now=start_time\n",
        "  available_slots = []\n",
        "  for start,end in merged_calendar:\n",
        "    start = time_to_minutes(start)\n",
        "    end = time_to_minutes(end)\n",
        "    if start > end:\n",
        "      continue\n",
        "    if now < start:\n",
        "      available_slots.append([minutes_to_time(now), minutes_to_time(start)])\n",
        "    now = max(now, end)\n",
        "    if now >= end_time:\n",
        "      break\n",
        "  if now < end_time:\n",
        "    available_slots.append([minutes_to_time(now), minutes_to_time(end_time)])\n",
        "  return available_slots\n"
      ],
      "metadata": {
        "id": "TxMoNs0TNqEf"
      },
      "execution_count": null,
      "outputs": []
    },
    {
      "cell_type": "code",
      "source": [
        "YourCalendar = [['9:00', '10:30'], ['12:00', '13:00'], ['16:00', '18:00']]\n",
        "YourWorkingHours = ['9:00', '20:00']\n",
        "YourCoWorkersCalendar = [['10:00', '11:30'], ['12:30', '14:30'], ['14:30',\n",
        "'15:00'], ['16:00', '17:00']]\n",
        "YourCoWorkersWorkingHours = ['10:00', '18:30']\n",
        "meetingDuration = 30\n",
        "slots=free_time(YourCalendar, YourWorkingHours, YourCoWorkersCalendar, YourCoWorkersWorkingHours, meetingDuration)\n",
        "print('the free slots ',slots)"
      ],
      "metadata": {
        "colab": {
          "base_uri": "https://localhost:8080/"
        },
        "id": "Pwxa81ApjwhX",
        "outputId": "eeb5dd21-5820-4d4f-9745-4bb5353d1885"
      },
      "execution_count": null,
      "outputs": [
        {
          "output_type": "stream",
          "name": "stdout",
          "text": [
            "your calender [['9:00', '10:30'], ['12:00', '13:00'], ['16:00', '18:00']]\n",
            "your co-workers calender [['10:00', '11:30'], ['12:30', '14:30'], ['14:30', '15:00'], ['16:00', '17:00']]\n",
            "merged calender [['9:00', '10:30'], ['12:00', '13:00'], ['16:00', '18:00'], ['10:00', '11:30'], ['12:30', '14:30'], ['14:30', '15:00'], ['16:00', '17:00']]\n",
            "sorted merged calender [['9:00', '10:30'], ['10:00', '11:30'], ['12:00', '13:00'], ['12:30', '14:30'], ['14:30', '15:00'], ['16:00', '18:00'], ['16:00', '17:00']]\n",
            "the free slots  [['11:30', '12:00'], ['15:00', '16:00'], ['18:00', '18:30']]\n"
          ]
        }
      ]
    }
  ]
}