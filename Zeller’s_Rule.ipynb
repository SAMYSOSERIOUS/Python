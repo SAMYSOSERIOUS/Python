{
  "nbformat": 4,
  "nbformat_minor": 0,
  "metadata": {
    "colab": {
      "provenance": [],
      "authorship_tag": "ABX9TyOuikHb1AjV7XADVI4O+oXQ",
      "include_colab_link": true
    },
    "kernelspec": {
      "name": "python3",
      "display_name": "Python 3"
    },
    "language_info": {
      "name": "python"
    }
  },
  "cells": [
    {
      "cell_type": "markdown",
      "metadata": {
        "id": "view-in-github",
        "colab_type": "text"
      },
      "source": [
        "<a href=\"https://colab.research.google.com/github/SAMYSOSERIOUS/Python/blob/main/Zeller%E2%80%99s_Rule.ipynb\" target=\"_parent\"><img src=\"https://colab.research.google.com/assets/colab-badge.svg\" alt=\"Open In Colab\"/></a>"
      ]
    },
    {
      "cell_type": "markdown",
      "source": [
        "SOURCE: https://en.wikipedia.org/wiki/Zeller%27s_congruence"
      ],
      "metadata": {
        "id": "RauaEFpVKti5"
      }
    },
    {
      "cell_type": "code",
      "execution_count": 28,
      "metadata": {
        "colab": {
          "base_uri": "https://localhost:8080/"
        },
        "id": "qvGZTyj2vTMz",
        "outputId": "eb8be06a-bcf5-4a3c-df40-8d7315bbd70c"
      },
      "outputs": [
        {
          "output_type": "stream",
          "name": "stdout",
          "text": [
            "write any date in this form : dd/mm/yyyy   15/01/2025\n",
            "Date : 15/01/2025\n",
            "Day : 15\n",
            "Month : 01\n",
            "Year : 2025\n",
            "-4\n",
            "20\n",
            "25\n",
            "Day of the week : Wednesday\n"
          ]
        }
      ],
      "source": [
        "date= input(\"write any date in this form : dd/mm/yyyy   \")\n",
        "print('Date :',date)\n",
        "date=date.split('/')\n",
        "print('Day :',date[0])\n",
        "print('Month :',date[1])\n",
        "print('Year :',date[2])\n",
        "day=int(date[0])\n",
        "month=int(date[1])\n",
        "year=int(date[2])\n",
        "def Zeller(k, m, year):\n",
        "    D = year // 100  # Use floor division to ensure D is an integer\n",
        "    C = year % 100\n",
        "    # Remove the unnecessary square brackets, ensuring all operands are integers or floats\n",
        "    F = k + ((13 * (m - 1)) // 5) + D + (D // 4) + (C // 4) - 2 * C\n",
        "    print(F)\n",
        "    print(D)\n",
        "    print(C)\n",
        "\n",
        "    # Convert the result to a string\n",
        "    dayOfTheWeek = F % 7\n",
        "    if dayOfTheWeek == 0:\n",
        "        dayOfTheWeek = \"Sunday\"\n",
        "    elif dayOfTheWeek == 1:\n",
        "        dayOfTheWeek = \"Monday\"\n",
        "    elif dayOfTheWeek == 2:\n",
        "        dayOfTheWeek = \"Tuesday\"\n",
        "    elif dayOfTheWeek == 3:\n",
        "        dayOfTheWeek = \"Wednesday\"\n",
        "    elif dayOfTheWeek == 4:\n",
        "        dayOfTheWeek = \"Thursday\"\n",
        "    elif dayOfTheWeek == 5:\n",
        "        dayOfTheWeek = \"Friday\"\n",
        "    elif dayOfTheWeek == 6:\n",
        "        dayOfTheWeek = \"Saturday\"\n",
        "\n",
        "\n",
        "\n",
        "    return dayOfTheWeek\n",
        "dayOfTheWeek=Zeller(day,month,year)\n",
        "\n",
        "\n",
        "print('Day of the week :',dayOfTheWeek)"
      ]
    }
  ]
}